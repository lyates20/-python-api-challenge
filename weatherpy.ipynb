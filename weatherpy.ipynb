{
 "cells": [
  {
   "cell_type": "code",
   "execution_count": 69,
   "metadata": {},
   "outputs": [
    {
     "ename": "SyntaxError",
     "evalue": "invalid syntax (<ipython-input-69-5d0a05dd580e>, line 11)",
     "output_type": "error",
     "traceback": [
      "\u001b[1;36m  File \u001b[1;32m\"<ipython-input-69-5d0a05dd580e>\"\u001b[1;36m, line \u001b[1;32m11\u001b[0m\n\u001b[1;33m    pip install citipy\u001b[0m\n\u001b[1;37m        ^\u001b[0m\n\u001b[1;31mSyntaxError\u001b[0m\u001b[1;31m:\u001b[0m invalid syntax\n"
     ]
    }
   ],
   "source": [
    "import json\n",
    "import requests as req\n",
    "import random\n",
    "import seaborn as sns\n",
    "import pandas as pd\n",
    "import math as math\n",
    "import time\n",
    "import numpy as np\n",
    "import matplotlib.pyplot as plt\n",
    "from citipy import citipy\n",
    "\n"
   ]
  },
  {
   "cell_type": "code",
   "execution_count": 63,
   "metadata": {},
   "outputs": [
    {
     "ename": "SyntaxError",
     "evalue": "invalid syntax (<ipython-input-63-29259f7b6f1e>, line 1)",
     "output_type": "error",
     "traceback": [
      "\u001b[1;36m  File \u001b[1;32m\"<ipython-input-63-29259f7b6f1e>\"\u001b[1;36m, line \u001b[1;32m1\u001b[0m\n\u001b[1;33m    api_keys = json.load(open(C:\\Users\\lawre\\Downloads\\pythoncities.csv\\APIKeys\\api_keys.json))\u001b[0m\n\u001b[1;37m                               ^\u001b[0m\n\u001b[1;31mSyntaxError\u001b[0m\u001b[1;31m:\u001b[0m invalid syntax\n"
     ]
    }
   ],
   "source": [
    "api_keys = json.load(open(C:\\Users\\lawre\\Downloads\\pythoncities.csv\\APIKeys\\api_keys.json))\n",
    "print(api_keys['open_weather_map'])\n",
    "data.decode('utf-8')"
   ]
  },
  {
   "cell_type": "code",
   "execution_count": 24,
   "metadata": {},
   "outputs": [],
   "source": [
    "\n",
    "api_key = \"ca948e37c7fc34fc07a1ece6ffdb31a0\""
   ]
  },
  {
   "cell_type": "code",
   "execution_count": 25,
   "metadata": {},
   "outputs": [
    {
     "data": {
      "text/html": [
       "<div>\n",
       "<style scoped>\n",
       "    .dataframe tbody tr th:only-of-type {\n",
       "        vertical-align: middle;\n",
       "    }\n",
       "\n",
       "    .dataframe tbody tr th {\n",
       "        vertical-align: top;\n",
       "    }\n",
       "\n",
       "    .dataframe thead th {\n",
       "        text-align: right;\n",
       "    }\n",
       "</style>\n",
       "<table border=\"1\" class=\"dataframe\">\n",
       "  <thead>\n",
       "    <tr style=\"text-align: right;\">\n",
       "      <th></th>\n",
       "      <th>lat_values</th>\n",
       "      <th>lng_values</th>\n",
       "    </tr>\n",
       "  </thead>\n",
       "  <tbody>\n",
       "    <tr>\n",
       "      <th>0</th>\n",
       "      <td>23.293088</td>\n",
       "      <td>12.698392</td>\n",
       "    </tr>\n",
       "    <tr>\n",
       "      <th>1</th>\n",
       "      <td>22.656827</td>\n",
       "      <td>-93.267311</td>\n",
       "    </tr>\n",
       "    <tr>\n",
       "      <th>2</th>\n",
       "      <td>-78.906948</td>\n",
       "      <td>-17.346307</td>\n",
       "    </tr>\n",
       "    <tr>\n",
       "      <th>3</th>\n",
       "      <td>15.118168</td>\n",
       "      <td>64.707316</td>\n",
       "    </tr>\n",
       "    <tr>\n",
       "      <th>4</th>\n",
       "      <td>58.741396</td>\n",
       "      <td>167.040385</td>\n",
       "    </tr>\n",
       "  </tbody>\n",
       "</table>\n",
       "</div>"
      ],
      "text/plain": [
       "   lat_values  lng_values\n",
       "0   23.293088   12.698392\n",
       "1   22.656827  -93.267311\n",
       "2  -78.906948  -17.346307\n",
       "3   15.118168   64.707316\n",
       "4   58.741396  167.040385"
      ]
     },
     "execution_count": 25,
     "metadata": {},
     "output_type": "execute_result"
    }
   ],
   "source": [
    "location_data = pd.DataFrame()\n",
    "location_data['lat_values'] = [np.random.uniform(-90,90) for x in range(1500)]\n",
    "location_data['lng_values'] = [np.random.uniform(-180, 180) for x in range(1500)]\n",
    "\n",
    "location_data.head()"
   ]
  },
  {
   "cell_type": "code",
   "execution_count": 67,
   "metadata": {},
   "outputs": [
    {
     "ename": "NameError",
     "evalue": "name 'citipy' is not defined",
     "output_type": "error",
     "traceback": [
      "\u001b[1;31m---------------------------------------------------------------------------\u001b[0m",
      "\u001b[1;31mNameError\u001b[0m                                 Traceback (most recent call last)",
      "\u001b[1;32m<ipython-input-67-cbb138b7e3da>\u001b[0m in \u001b[0;36m<module>\u001b[1;34m\u001b[0m\n\u001b[0;32m      4\u001b[0m \u001b[0mcount\u001b[0m \u001b[1;33m=\u001b[0m \u001b[1;36m0\u001b[0m\u001b[1;33m\u001b[0m\u001b[1;33m\u001b[0m\u001b[0m\n\u001b[0;32m      5\u001b[0m \u001b[1;32mfor\u001b[0m \u001b[0mindex\u001b[0m\u001b[1;33m,\u001b[0m \u001b[0mrow\u001b[0m \u001b[1;32min\u001b[0m \u001b[0mlocation_data\u001b[0m\u001b[1;33m.\u001b[0m\u001b[0miterrows\u001b[0m\u001b[1;33m(\u001b[0m\u001b[1;33m)\u001b[0m\u001b[1;33m:\u001b[0m\u001b[1;33m\u001b[0m\u001b[1;33m\u001b[0m\u001b[0m\n\u001b[1;32m----> 6\u001b[1;33m     \u001b[0mnear_city\u001b[0m \u001b[1;33m=\u001b[0m \u001b[0mcitipy\u001b[0m\u001b[1;33m.\u001b[0m\u001b[0mnearest_city\u001b[0m\u001b[1;33m(\u001b[0m\u001b[0mrow\u001b[0m\u001b[1;33m[\u001b[0m\u001b[1;34m'lat_values'\u001b[0m\u001b[1;33m]\u001b[0m\u001b[1;33m,\u001b[0m \u001b[0mrow\u001b[0m\u001b[1;33m[\u001b[0m\u001b[1;34m'lng_values'\u001b[0m\u001b[1;33m]\u001b[0m\u001b[1;33m)\u001b[0m\u001b[1;33m.\u001b[0m\u001b[0mcity_name\u001b[0m\u001b[1;33m\u001b[0m\u001b[1;33m\u001b[0m\u001b[0m\n\u001b[0m\u001b[0;32m      7\u001b[0m     \u001b[0mnear_country\u001b[0m \u001b[1;33m=\u001b[0m \u001b[0mcitipy\u001b[0m\u001b[1;33m.\u001b[0m\u001b[0mnearest_city\u001b[0m\u001b[1;33m(\u001b[0m\u001b[0mrow\u001b[0m\u001b[1;33m[\u001b[0m\u001b[1;34m'lat_values'\u001b[0m\u001b[1;33m]\u001b[0m\u001b[1;33m,\u001b[0m \u001b[0mrow\u001b[0m\u001b[1;33m[\u001b[0m\u001b[1;34m'lng_values'\u001b[0m\u001b[1;33m]\u001b[0m\u001b[1;33m)\u001b[0m\u001b[1;33m.\u001b[0m\u001b[0mcountry_code\u001b[0m\u001b[1;33m\u001b[0m\u001b[1;33m\u001b[0m\u001b[0m\n\u001b[0;32m      8\u001b[0m     \u001b[0mlocation_data\u001b[0m\u001b[1;33m.\u001b[0m\u001b[0mset_value\u001b[0m\u001b[1;33m(\u001b[0m\u001b[0mindex\u001b[0m\u001b[1;33m,\u001b[0m\u001b[1;34m\"city\"\u001b[0m\u001b[1;33m,\u001b[0m\u001b[0mnear_city\u001b[0m\u001b[1;33m)\u001b[0m\u001b[1;33m\u001b[0m\u001b[1;33m\u001b[0m\u001b[0m\n",
      "\u001b[1;31mNameError\u001b[0m: name 'citipy' is not defined"
     ]
    }
   ],
   "source": [
    "location_data['city'] = \"\"\n",
    "location_data['country'] = \"\"\n",
    "\n",
    "count = 0\n",
    "for index, row in location_data.iterrows():\n",
    "    near_city = citipy.nearest_city(row['lat_values'], row['lng_values']).city_name\n",
    "    near_country = citipy.nearest_city(row['lat_values'], row['lng_values']).country_code\n",
    "    location_data.set_value(index,\"city\",near_city)\n",
    "    location_data.set_value(index,\"country\",near_country)\n",
    "location_data.head()\n"
   ]
  },
  {
   "cell_type": "code",
   "execution_count": 27,
   "metadata": {},
   "outputs": [
    {
     "data": {
      "text/plain": [
       "1500"
      ]
     },
     "execution_count": 27,
     "metadata": {},
     "output_type": "execute_result"
    }
   ],
   "source": [
    "len(location_data)"
   ]
  },
  {
   "cell_type": "code",
   "execution_count": 28,
   "metadata": {},
   "outputs": [],
   "source": [
    "location_data=location_data.drop_duplicates(['city','country'],keep = \"first\")"
   ]
  },
  {
   "cell_type": "code",
   "execution_count": 29,
   "metadata": {},
   "outputs": [],
   "source": [
    "location_data['Temp'] = \"\"\n",
    "location_data['Humidity'] = \"\"\n",
    "location_data['Cloudiness'] = \"\"\n",
    "location_data['Wind Speed'] = \"\"\n",
    "location_data[\"Lat\"] =\"\"\n",
    "location_data[\"Longitude\"] =\"\""
   ]
  },
  {
   "cell_type": "code",
   "execution_count": 30,
   "metadata": {},
   "outputs": [],
   "source": [
    "\n",
    "sample_size = 500\n",
    "\n",
    "target_url = 'http://api.openweathermap.org/data/2.5/weather?q='\n",
    "units = 'imperial'"
   ]
  },
  {
   "cell_type": "code",
   "execution_count": 31,
   "metadata": {},
   "outputs": [
    {
     "data": {
      "text/html": [
       "<div>\n",
       "<style scoped>\n",
       "    .dataframe tbody tr th:only-of-type {\n",
       "        vertical-align: middle;\n",
       "    }\n",
       "\n",
       "    .dataframe tbody tr th {\n",
       "        vertical-align: top;\n",
       "    }\n",
       "\n",
       "    .dataframe thead th {\n",
       "        text-align: right;\n",
       "    }\n",
       "</style>\n",
       "<table border=\"1\" class=\"dataframe\">\n",
       "  <thead>\n",
       "    <tr style=\"text-align: right;\">\n",
       "      <th></th>\n",
       "      <th>lat_values</th>\n",
       "      <th>lng_values</th>\n",
       "      <th>city</th>\n",
       "      <th>country</th>\n",
       "      <th>Temp</th>\n",
       "      <th>Humidity</th>\n",
       "      <th>Cloudiness</th>\n",
       "      <th>Wind Speed</th>\n",
       "      <th>Lat</th>\n",
       "      <th>Longitude</th>\n",
       "    </tr>\n",
       "  </thead>\n",
       "  <tbody>\n",
       "    <tr>\n",
       "      <th>0</th>\n",
       "      <td>23.293088</td>\n",
       "      <td>12.698392</td>\n",
       "      <td></td>\n",
       "      <td></td>\n",
       "      <td></td>\n",
       "      <td></td>\n",
       "      <td></td>\n",
       "      <td></td>\n",
       "      <td></td>\n",
       "      <td></td>\n",
       "    </tr>\n",
       "  </tbody>\n",
       "</table>\n",
       "</div>"
      ],
      "text/plain": [
       "   lat_values  lng_values city country Temp Humidity Cloudiness Wind Speed  \\\n",
       "0   23.293088   12.698392                                                    \n",
       "\n",
       "  Lat Longitude  \n",
       "0                "
      ]
     },
     "execution_count": 31,
     "metadata": {},
     "output_type": "execute_result"
    }
   ],
   "source": [
    "location_data.head()"
   ]
  },
  {
   "cell_type": "code",
   "execution_count": 32,
   "metadata": {},
   "outputs": [
    {
     "name": "stdout",
     "output_type": "stream",
     "text": [
      "http://api.openweathermap.org/data/2.5/weather?q=,&units=imperial&APPID=ca948e37c7fc34fc07a1ece6ffdb31a0\n",
      "No data for , \n"
     ]
    }
   ],
   "source": [
    "\n",
    "record = 0\n",
    "for index, row in location_data.iterrows():\n",
    "    city_name = row['city']\n",
    "    country_code = row['country']\n",
    "    url = target_url + city_name + ',' + country_code + '&units=' + units + '&APPID=' + api_key\n",
    "    print (url)\n",
    "    try: \n",
    "        weather_response = req.get(url)\n",
    "        weather_json = weather_response.json()\n",
    "        latitude = weather_json[\"coord\"][\"lat\"]\n",
    "        longitude = weather_json[\"coord\"][\"lon\"]\n",
    "        temp = weather_json[\"main\"][\"temp\"]\n",
    "        humidity = weather_json[\"main\"][\"humidity\"]\n",
    "        cloud = weather_json[\"clouds\"][\"all\"]\n",
    "        wind = weather_json[\"wind\"][\"speed\"]\n",
    "        location_data.set_value(index,\"Temp\", temp)\n",
    "        location_data.set_value(index,\"Humidity\",humidity)\n",
    "        location_data.set_value(index,\"Wind Speed\", wind)\n",
    "        location_data.set_value(index,\"Cloudiness\",cloud)\n",
    "        location_data.set_value(index,\"Lat\", latitude)\n",
    "        location_data.set_value(index,\"Longitude\",longitude)\n",
    "        print(\"Retrieved data for %s, %s\" % (city_name, country_code))\n",
    "    except:\n",
    "        print(\"No data for %s, %s\" % (city_name,country_code))\n",
    "    record += 1\n",
    "    if record % 59 == 0:\n",
    "        time.sleep(60)"
   ]
  },
  {
   "cell_type": "code",
   "execution_count": 33,
   "metadata": {},
   "outputs": [
    {
     "data": {
      "text/html": [
       "<div>\n",
       "<style scoped>\n",
       "    .dataframe tbody tr th:only-of-type {\n",
       "        vertical-align: middle;\n",
       "    }\n",
       "\n",
       "    .dataframe tbody tr th {\n",
       "        vertical-align: top;\n",
       "    }\n",
       "\n",
       "    .dataframe thead th {\n",
       "        text-align: right;\n",
       "    }\n",
       "</style>\n",
       "<table border=\"1\" class=\"dataframe\">\n",
       "  <thead>\n",
       "    <tr style=\"text-align: right;\">\n",
       "      <th></th>\n",
       "      <th>lat_values</th>\n",
       "      <th>lng_values</th>\n",
       "      <th>city</th>\n",
       "      <th>country</th>\n",
       "      <th>Temp</th>\n",
       "      <th>Humidity</th>\n",
       "      <th>Cloudiness</th>\n",
       "      <th>Wind Speed</th>\n",
       "      <th>Lat</th>\n",
       "      <th>Longitude</th>\n",
       "    </tr>\n",
       "  </thead>\n",
       "  <tbody>\n",
       "    <tr>\n",
       "      <th>0</th>\n",
       "      <td>23.293088</td>\n",
       "      <td>12.698392</td>\n",
       "      <td></td>\n",
       "      <td></td>\n",
       "      <td></td>\n",
       "      <td></td>\n",
       "      <td></td>\n",
       "      <td></td>\n",
       "      <td></td>\n",
       "      <td></td>\n",
       "    </tr>\n",
       "  </tbody>\n",
       "</table>\n",
       "</div>"
      ],
      "text/plain": [
       "   lat_values  lng_values city country Temp Humidity Cloudiness Wind Speed  \\\n",
       "0   23.293088   12.698392                                                    \n",
       "\n",
       "  Lat Longitude  \n",
       "0                "
      ]
     },
     "execution_count": 33,
     "metadata": {},
     "output_type": "execute_result"
    }
   ],
   "source": [
    "location_data.head(20)"
   ]
  },
  {
   "cell_type": "code",
   "execution_count": 34,
   "metadata": {},
   "outputs": [
    {
     "data": {
      "text/plain": [
       "1"
      ]
     },
     "execution_count": 34,
     "metadata": {},
     "output_type": "execute_result"
    }
   ],
   "source": [
    "len(location_data)"
   ]
  },
  {
   "cell_type": "code",
   "execution_count": 35,
   "metadata": {},
   "outputs": [],
   "source": [
    "\n",
    "location_data.to_csv(\"weatherpy_data.csv\", encoding=\"utf-8\", index=False)"
   ]
  },
  {
   "cell_type": "code",
   "execution_count": 36,
   "metadata": {},
   "outputs": [],
   "source": [
    "location_data['Lat'] = pd.to_numeric(location_data['Lat'], errors = 'coerce')\n",
    "location_data['Temp'] = pd.to_numeric(location_data['Temp'], errors = 'coerce')\n",
    "location_data['Humidity'] = pd.to_numeric(location_data['Humidity'], errors = 'coerce')\n",
    "location_data['Wind Speed'] = pd.to_numeric(location_data['Wind Speed'], errors = 'coerce')\n",
    "location_data['Cloudiness'] = pd.to_numeric(location_data['Cloudiness'], errors = 'coerce')"
   ]
  },
  {
   "cell_type": "code",
   "execution_count": 37,
   "metadata": {},
   "outputs": [
    {
     "data": {
      "text/html": [
       "<div>\n",
       "<style scoped>\n",
       "    .dataframe tbody tr th:only-of-type {\n",
       "        vertical-align: middle;\n",
       "    }\n",
       "\n",
       "    .dataframe tbody tr th {\n",
       "        vertical-align: top;\n",
       "    }\n",
       "\n",
       "    .dataframe thead th {\n",
       "        text-align: right;\n",
       "    }\n",
       "</style>\n",
       "<table border=\"1\" class=\"dataframe\">\n",
       "  <thead>\n",
       "    <tr style=\"text-align: right;\">\n",
       "      <th></th>\n",
       "      <th>lat_values</th>\n",
       "      <th>lng_values</th>\n",
       "      <th>city</th>\n",
       "      <th>country</th>\n",
       "      <th>Temp</th>\n",
       "      <th>Humidity</th>\n",
       "      <th>Cloudiness</th>\n",
       "      <th>Wind Speed</th>\n",
       "      <th>Lat</th>\n",
       "      <th>Longitude</th>\n",
       "    </tr>\n",
       "  </thead>\n",
       "  <tbody>\n",
       "    <tr>\n",
       "      <th>0</th>\n",
       "      <td>23.293088</td>\n",
       "      <td>12.698392</td>\n",
       "      <td></td>\n",
       "      <td></td>\n",
       "      <td>NaN</td>\n",
       "      <td>NaN</td>\n",
       "      <td>NaN</td>\n",
       "      <td>NaN</td>\n",
       "      <td>NaN</td>\n",
       "      <td></td>\n",
       "    </tr>\n",
       "  </tbody>\n",
       "</table>\n",
       "</div>"
      ],
      "text/plain": [
       "   lat_values  lng_values city country  Temp  Humidity  Cloudiness  \\\n",
       "0   23.293088   12.698392                NaN       NaN         NaN   \n",
       "\n",
       "   Wind Speed  Lat Longitude  \n",
       "0         NaN  NaN            "
      ]
     },
     "execution_count": 37,
     "metadata": {},
     "output_type": "execute_result"
    }
   ],
   "source": [
    "location_data.head()"
   ]
  },
  {
   "cell_type": "code",
   "execution_count": 38,
   "metadata": {},
   "outputs": [
    {
     "data": {
      "image/png": "[encoded data removed]",
      "text/plain": [
       "<Figure size 360x360 with 1 Axes>"
      ]
     },
     "metadata": {},
     "output_type": "display_data"
    }
   ],
   "source": [
    "sns.set_context(\"notebook\", font_scale=1.1)\n",
    "sns.set_style(\"ticks\")\n",
    "\n",
    "\n",
    "sns.lmplot('Lat',\n",
    "          'Temp',\n",
    "          data=location_data,\n",
    "          fit_reg=False,\n",
    "          scatter_kws={\"marker\": \"o\",\n",
    "                        \"s\": 20})\n",
    "plt.grid(True)\n",
    "plt.xlabel(\"Latitude\")\n",
    "plt.ylabel(\"Max Temperature (Celsius)\")\n",
    "plt.title(\"City Latitude vs Max Temperature\")\n",
    "plt.show()"
   ]
  },
  {
   "cell_type": "code",
   "execution_count": 39,
   "metadata": {},
   "outputs": [
    {
     "data": {
      "text/html": [
       "<div>\n",
       "<style scoped>\n",
       "    .dataframe tbody tr th:only-of-type {\n",
       "        vertical-align: middle;\n",
       "    }\n",
       "\n",
       "    .dataframe tbody tr th {\n",
       "        vertical-align: top;\n",
       "    }\n",
       "\n",
       "    .dataframe thead th {\n",
       "        text-align: right;\n",
       "    }\n",
       "</style>\n",
       "<table border=\"1\" class=\"dataframe\">\n",
       "  <thead>\n",
       "    <tr style=\"text-align: right;\">\n",
       "      <th></th>\n",
       "      <th>lat_values</th>\n",
       "      <th>lng_values</th>\n",
       "      <th>city</th>\n",
       "      <th>country</th>\n",
       "      <th>Temp</th>\n",
       "      <th>Humidity</th>\n",
       "      <th>Cloudiness</th>\n",
       "      <th>Wind Speed</th>\n",
       "      <th>Lat</th>\n",
       "      <th>Longitude</th>\n",
       "    </tr>\n",
       "  </thead>\n",
       "  <tbody>\n",
       "    <tr>\n",
       "      <th>0</th>\n",
       "      <td>23.293088</td>\n",
       "      <td>12.698392</td>\n",
       "      <td></td>\n",
       "      <td></td>\n",
       "      <td>NaN</td>\n",
       "      <td>NaN</td>\n",
       "      <td>NaN</td>\n",
       "      <td>NaN</td>\n",
       "      <td>NaN</td>\n",
       "      <td></td>\n",
       "    </tr>\n",
       "  </tbody>\n",
       "</table>\n",
       "</div>"
      ],
      "text/plain": [
       "   lat_values  lng_values city country  Temp  Humidity  Cloudiness  \\\n",
       "0   23.293088   12.698392                NaN       NaN         NaN   \n",
       "\n",
       "   Wind Speed  Lat Longitude  \n",
       "0         NaN  NaN            "
      ]
     },
     "execution_count": 39,
     "metadata": {},
     "output_type": "execute_result"
    }
   ],
   "source": [
    "location_data.head(20)\n"
   ]
  },
  {
   "cell_type": "code",
   "execution_count": 40,
   "metadata": {},
   "outputs": [],
   "source": [
    "sample_size = 500\n",
    "\n",
    "target_url = 'http://api.openweathermap.org/data/2.5/weather?q='\n",
    "units = 'imperial'"
   ]
  },
  {
   "cell_type": "code",
   "execution_count": 41,
   "metadata": {},
   "outputs": [
    {
     "data": {
      "text/html": [
       "<div>\n",
       "<style scoped>\n",
       "    .dataframe tbody tr th:only-of-type {\n",
       "        vertical-align: middle;\n",
       "    }\n",
       "\n",
       "    .dataframe tbody tr th {\n",
       "        vertical-align: top;\n",
       "    }\n",
       "\n",
       "    .dataframe thead th {\n",
       "        text-align: right;\n",
       "    }\n",
       "</style>\n",
       "<table border=\"1\" class=\"dataframe\">\n",
       "  <thead>\n",
       "    <tr style=\"text-align: right;\">\n",
       "      <th></th>\n",
       "      <th>lat_values</th>\n",
       "      <th>lng_values</th>\n",
       "      <th>city</th>\n",
       "      <th>country</th>\n",
       "      <th>Temp</th>\n",
       "      <th>Humidity</th>\n",
       "      <th>Cloudiness</th>\n",
       "      <th>Wind Speed</th>\n",
       "      <th>Lat</th>\n",
       "      <th>Longitude</th>\n",
       "    </tr>\n",
       "  </thead>\n",
       "  <tbody>\n",
       "    <tr>\n",
       "      <th>0</th>\n",
       "      <td>23.293088</td>\n",
       "      <td>12.698392</td>\n",
       "      <td></td>\n",
       "      <td></td>\n",
       "      <td>NaN</td>\n",
       "      <td>NaN</td>\n",
       "      <td>NaN</td>\n",
       "      <td>NaN</td>\n",
       "      <td>NaN</td>\n",
       "      <td></td>\n",
       "    </tr>\n",
       "  </tbody>\n",
       "</table>\n",
       "</div>"
      ],
      "text/plain": [
       "   lat_values  lng_values city country  Temp  Humidity  Cloudiness  \\\n",
       "0   23.293088   12.698392                NaN       NaN         NaN   \n",
       "\n",
       "   Wind Speed  Lat Longitude  \n",
       "0         NaN  NaN            "
      ]
     },
     "execution_count": 41,
     "metadata": {},
     "output_type": "execute_result"
    }
   ],
   "source": [
    "\n",
    "location_data.head()"
   ]
  },
  {
   "cell_type": "code",
   "execution_count": 42,
   "metadata": {},
   "outputs": [
    {
     "name": "stdout",
     "output_type": "stream",
     "text": [
      "http://api.openweathermap.org/data/2.5/weather?q=,&units=imperial&APPID=ca948e37c7fc34fc07a1ece6ffdb31a0\n",
      "No data for , \n"
     ]
    }
   ],
   "source": [
    "record = 0\n",
    "for index, row in location_data.iterrows():\n",
    "    city_name = row['city']\n",
    "    country_code = row['country']\n",
    "    url = target_url + city_name + ',' + country_code + '&units=' + units + '&APPID=' + api_key\n",
    "    print (url)\n",
    "    try: \n",
    "        weather_response = req.get(url)\n",
    "        weather_json = weather_response.json()\n",
    "        latitude = weather_json[\"coord\"][\"lat\"]\n",
    "        longitude = weather_json[\"coord\"][\"lon\"]\n",
    "        temp = weather_json[\"main\"][\"temp\"]\n",
    "        humidity = weather_json[\"main\"][\"humidity\"]\n",
    "        cloud = weather_json[\"clouds\"][\"all\"]\n",
    "        wind = weather_json[\"wind\"][\"speed\"]\n",
    "        location_data.set_value(index,\"Temp\", temp)\n",
    "        location_data.set_value(index,\"Humidity\",humidity)\n",
    "        location_data.set_value(index,\"Wind Speed\", wind)\n",
    "        location_data.set_value(index,\"Cloudiness\",cloud)\n",
    "        location_data.set_value(index,\"Lat\", latitude)\n",
    "        location_data.set_value(index,\"Longitude\",longitude)\n",
    "        print(\"Retrieved data for %s, %s\" % (city_name, country_code))\n",
    "    except:\n",
    "        print(\"No data for %s, %s\" % (city_name,country_code))\n",
    "    record += 1\n",
    "    if record % 59 == 0:\n",
    "        time.sleep(60)"
   ]
  },
  {
   "cell_type": "code",
   "execution_count": 43,
   "metadata": {},
   "outputs": [
    {
     "data": {
      "text/plain": [
       "1"
      ]
     },
     "execution_count": 43,
     "metadata": {},
     "output_type": "execute_result"
    }
   ],
   "source": [
    "len(location_data)"
   ]
  },
  {
   "cell_type": "code",
   "execution_count": 44,
   "metadata": {},
   "outputs": [],
   "source": [
    "location_data.to_csv(\"weatherpy_data.csv\", encoding=\"utf-8\", index=False)\n"
   ]
  },
  {
   "cell_type": "code",
   "execution_count": 45,
   "metadata": {},
   "outputs": [],
   "source": [
    "location_data['Lat'] = pd.to_numeric(location_data['Lat'], errors = 'coerce')\n",
    "location_data['Temp'] = pd.to_numeric(location_data['Temp'], errors = 'coerce')\n",
    "location_data['Humidity'] = pd.to_numeric(location_data['Humidity'], errors = 'coerce')\n",
    "location_data['Wind Speed'] = pd.to_numeric(location_data['Wind Speed'], errors = 'coerce')\n",
    "location_data['Cloudiness'] = pd.to_numeric(location_data['Cloudiness'], errors = 'coerce')"
   ]
  },
  {
   "cell_type": "code",
   "execution_count": 46,
   "metadata": {},
   "outputs": [
    {
     "data": {
      "image/png": "[encoded data removed]",
      "text/plain": [
       "<Figure size 360x360 with 1 Axes>"
      ]
     },
     "metadata": {},
     "output_type": "display_data"
    }
   ],
   "source": [
    "\n",
    "sns.set_context(\"notebook\", font_scale=1.1)\n",
    "sns.set_style(\"ticks\")\n",
    "\n",
    "\n",
    "sns.lmplot('Lat',\n",
    "          'Temp',\n",
    "          data=location_data,\n",
    "          fit_reg=False,\n",
    "          scatter_kws={\"marker\": \"o\",\n",
    "                        \"s\": 20})\n",
    "plt.grid(True)\n",
    "plt.xlabel(\"Latitude\")\n",
    "plt.ylabel(\"Max Temperature (Celsius)\")\n",
    "plt.title(\"City Latitude vs Max Temperature\")\n",
    "plt.show()"
   ]
  },
  {
   "cell_type": "code",
   "execution_count": 51,
   "metadata": {},
   "outputs": [
    {
     "data": {
      "image/png": "[encoded data removed]",
      "text/plain": [
       "<Figure size 360x360 with 1 Axes>"
      ]
     },
     "metadata": {},
     "output_type": "display_data"
    }
   ],
   "source": [
    "sns.set_context(\"notebook\", font_scale=1.1)\n",
    "sns.set_style(\"ticks\")\n",
    "\n",
    "\n",
    "sns.lmplot('Lat',\n",
    "          'Humidity',\n",
    "          data=location_data,\n",
    "          fit_reg=False,\n",
    "          scatter_kws={\"marker\": \"o\",\n",
    "                        \"s\": 20})\n",
    "plt.grid(True)\n",
    "plt.xlabel(\"Latitude\")\n",
    "plt.ylabel(\"Humidity (%)\")\n",
    "plt.title(\"City Latitude vs Humidity\")\n",
    "plt.show()"
   ]
  },
  {
   "cell_type": "code",
   "execution_count": 52,
   "metadata": {},
   "outputs": [
    {
     "data": {
      "image/png": "[encoded data removed]",
      "text/plain": [
       "<Figure size 360x360 with 1 Axes>"
      ]
     },
     "metadata": {},
     "output_type": "display_data"
    }
   ],
   "source": [
    "sns.set_context(\"notebook\", font_scale=1.1)\n",
    "sns.set_style(\"ticks\")\n",
    "\n",
    "\n",
    "sns.lmplot('Lat',\n",
    "          'Cloudiness',\n",
    "          data=location_data,\n",
    "          fit_reg=False,\n",
    "          scatter_kws={\"marker\": \"o\",\n",
    "                        \"s\": 20})\n",
    "plt.grid(True)\n",
    "plt.xlabel(\"Latitude\")\n",
    "plt.ylabel(\"Cloudiness (%)\")\n",
    "plt.title(\"City Latitude vs Cloudiness\")\n",
    "plt.show()"
   ]
  },
  {
   "cell_type": "code",
   "execution_count": 53,
   "metadata": {},
   "outputs": [
    {
     "data": {
      "image/png": "[encoded data removed]",
      "text/plain": [
       "<Figure size 360x360 with 1 Axes>"
      ]
     },
     "metadata": {},
     "output_type": "display_data"
    }
   ],
   "source": [
    "sns.set_context(\"notebook\", font_scale=1.1)\n",
    "sns.set_style(\"ticks\")\n",
    "\n",
    "\n",
    "sns.lmplot('Lat',\n",
    "          'Wind Speed',\n",
    "          data=location_data,\n",
    "          fit_reg=False,\n",
    "          scatter_kws={\"marker\": \"o\",\n",
    "                        \"s\": 20})\n",
    "plt.grid(True)\n",
    "plt.xlabel(\"Latitude\")\n",
    "plt.ylabel(\"Wind Speed (kph)\")\n",
    "plt.title(\"City Latitude vs Wind Speed\")\n",
    "plt.show()"
   ]
  },
  {
   "cell_type": "code",
   "execution_count": null,
   "metadata": {},
   "outputs": [],
   "source": []
  }
 ],
 "metadata": {
  "kernelspec": {
   "display_name": "Python 3",
   "language": "python",
   "name": "python3"
  },
  "language_info": {
   "codemirror_mode": {
    "name": "ipython",
    "version": 3
   },
   "file_extension": ".py",
   "mimetype": "text/x-python",
   "name": "python",
   "nbconvert_exporter": "python",
   "pygments_lexer": "ipython3",
   "version": "3.8.3"
  }
 },
 "nbformat": 4,
 "nbformat_minor": 4
}
